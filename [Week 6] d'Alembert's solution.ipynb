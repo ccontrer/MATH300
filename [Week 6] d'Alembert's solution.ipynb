{
 "cells": [
  {
   "cell_type": "code",
   "execution_count": null,
   "metadata": {},
   "outputs": [],
   "source": [
    "%matplotlib inline\n",
    "from mpl_toolkits.mplot3d import Axes3D\n",
    "import numpy as np\n",
    "import matplotlib.pyplot as plt\n",
    "from scipy.integrate import quadrature\n",
    "from ipywidgets import interactive"
   ]
  },
  {
   "cell_type": "markdown",
   "metadata": {},
   "source": [
    "Consider the one-dimensional wave equation with infinite domain\n",
    "\n",
    "$$\\frac{\\partial^{2} u}{\\partial t^{2}} = c^2 \\frac{\\partial^{2} u}{\\partial x^{2}}, \\quad -\\infty<x<\\infty, \\quad t>0.$$\n",
    "\n",
    "With initial conditions\n",
    "\n",
    "$$\n",
    "\\begin{aligned}\n",
    "u(x,0)=f(x)\n",
    "\\frac{\\partial u}{\\partial t}(x,0)=0, \\quad -\\infty<x<\\infty.\n",
    "\\end{aligned}\n",
    "$$\n",
    "\n",
    "\n",
    "d'Alembert's solutions is given by\n",
    "$$\n",
    "u(x,t) = \\frac{1}{2}[f(x+ct)-f(x-ct)] + \\frac{1}{2c}\\int_{x-ct}^{x+ct}g(\\mu)\\,d\\mu.\n",
    "$$\n",
    "\n",
    "Let's plot the solution."
   ]
  },
  {
   "cell_type": "markdown",
   "metadata": {},
   "source": [
    "First, let's define the first initial condition.\n",
    "\n",
    "*Replace the function where it is indicated but keep* `return`*.*"
   ]
  },
  {
   "cell_type": "code",
   "execution_count": null,
   "metadata": {},
   "outputs": [],
   "source": [
    "def f(x):\n",
    "    # replace the function here\n",
    "    return x**2"
   ]
  },
  {
   "cell_type": "markdown",
   "metadata": {},
   "source": [
    "Second, let's define the second initial condition.\n",
    "\n",
    "*Replace the function where it is indicated but keep* `return`*.*"
   ]
  },
  {
   "cell_type": "code",
   "execution_count": null,
   "metadata": {},
   "outputs": [],
   "source": [
    "def g(x):\n",
    "    # replace the function here\n",
    "    return 3"
   ]
  },
  {
   "cell_type": "markdown",
   "metadata": {},
   "source": [
    "Third, let's define the constant $c$ and d'Alembert's solution.\n",
    "\n",
    "*Replace the function where it is indicated but keep* `return`*.*"
   ]
  },
  {
   "cell_type": "code",
   "execution_count": null,
   "metadata": {},
   "outputs": [],
   "source": [
    "# replace with the value of c\n",
    "c = 25\n",
    "\n",
    "def u(x, t):\n",
    "    integral = 0\n",
    "    for xx in x:\n",
    "        integral += quadrature(g, xx - c*t, xx + c*t)[1]\n",
    "    return 1/2*(f(x + c*t) + f(x - c*t)) + 1/(2*c)*integral"
   ]
  },
  {
   "cell_type": "code",
   "execution_count": null,
   "metadata": {},
   "outputs": [],
   "source": [
    "def sol_plot_fixed_t(t):\n",
    "    X = np.arange(-10, 10, 0.01)\n",
    "    U = u(X, t)\n",
    "    m, M = min(X), max(X)\n",
    "    fig = plt.figure(dpi=100)\n",
    "    plt.plot(X, U, 'b-')\n",
    "    plt.xlim((-10, 10))\n",
    "    plt.ylim((-2, 2))\n",
    "    plt.xlabel(\"$x$\")\n",
    "    plt.ylabel(\"$u(x,t)$\")\n",
    "    plt.show()\n",
    "\n",
    "interactive_plot = interactive(sol_plot_fixed_t, t=(0, 2, 0.01))\n",
    "interactive_plot"
   ]
  },
  {
   "cell_type": "code",
   "execution_count": null,
   "metadata": {},
   "outputs": [],
   "source": []
  },
  {
   "cell_type": "code",
   "execution_count": null,
   "metadata": {},
   "outputs": [],
   "source": []
  },
  {
   "cell_type": "code",
   "execution_count": null,
   "metadata": {},
   "outputs": [],
   "source": []
  }
 ],
 "metadata": {
  "kernelspec": {
   "display_name": "Python 3",
   "language": "python",
   "name": "python3"
  },
  "language_info": {
   "codemirror_mode": {
    "name": "ipython",
    "version": 3
   },
   "file_extension": ".py",
   "mimetype": "text/x-python",
   "name": "python",
   "nbconvert_exporter": "python",
   "pygments_lexer": "ipython3",
   "version": "3.7.6"
  }
 },
 "nbformat": 4,
 "nbformat_minor": 4
}
