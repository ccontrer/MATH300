{
 "cells": [
  {
   "cell_type": "code",
   "execution_count": 1,
   "metadata": {},
   "outputs": [],
   "source": [
    "%matplotlib inline\n",
    "\n",
    "import numpy as np\n",
    "import matplotlib.pyplot as plt\n",
    "from mpl_toolkits.mplot3d import Axes3D\n",
    "from matplotlib.lines import Line2D\n",
    "from scipy.integrate import quadrature\n",
    "\n",
    "from matplotlib import animation\n",
    "from IPython.display import HTML"
   ]
  },
  {
   "cell_type": "markdown",
   "metadata": {},
   "source": [
    "Consider the one-dimensional wave equation with infinite domain\n",
    "\n",
    "$$\\frac{\\partial^{2} u}{\\partial t^{2}} = c^2 \\frac{\\partial^{2} u}{\\partial x^{2}}, \\quad -\\infty<x<\\infty, \\quad t>0.$$\n",
    "\n",
    "With initial conditions\n",
    "\n",
    "$$\n",
    "\\begin{aligned}\n",
    "u(x,0)=f(x)\n",
    "\\frac{\\partial u}{\\partial t}(x,0)=0, \\quad -\\infty<x<\\infty.\n",
    "\\end{aligned}\n",
    "$$\n",
    "\n",
    "\n",
    "d'Alembert's solutions is given by\n",
    "$$\n",
    "u(x,t) = \\frac{1}{2}[f(x+ct)-f(x-ct)] + \\frac{1}{2c}\\int_{x-ct}^{x+ct}g(\\mu)\\,d\\mu.\n",
    "$$\n",
    "\n",
    "Let's plot the solution."
   ]
  },
  {
   "cell_type": "markdown",
   "metadata": {},
   "source": [
    "First, let's define the first initial condition.\n",
    "\n",
    "*Replace the function where it is indicated but keep* `return`*.*"
   ]
  },
  {
   "cell_type": "code",
   "execution_count": 2,
   "metadata": {},
   "outputs": [],
   "source": [
    "def f(x):\n",
    "    # replace the function here\n",
    "    return np.sin(x)"
   ]
  },
  {
   "cell_type": "markdown",
   "metadata": {},
   "source": [
    "Second, let's define the second initial condition.\n",
    "\n",
    "*Replace the function where it is indicated but keep* `return`*.*"
   ]
  },
  {
   "cell_type": "code",
   "execution_count": 3,
   "metadata": {},
   "outputs": [],
   "source": [
    "def g(x):\n",
    "    # replace the function here\n",
    "    return np.sin(2*x)"
   ]
  },
  {
   "cell_type": "markdown",
   "metadata": {},
   "source": [
    "Third, let's define the constant $c$ and d'Alembert's solution.\n",
    "\n",
    "*Replace the function where it is indicated but keep* `return`*.*"
   ]
  },
  {
   "cell_type": "code",
   "execution_count": 4,
   "metadata": {},
   "outputs": [],
   "source": [
    "# replace with the value of c\n",
    "c = 2\n",
    "\n",
    "def u(X, t):\n",
    "    integral = 0\n",
    "    for x in X:\n",
    "        integral += quadrature(g, x - c*t, x + c*t)[1]\n",
    "    return 1/2*(f(X + c*t) + f(X - c*t)) + 1/(2*c)*integral"
   ]
  },
  {
   "cell_type": "code",
   "execution_count": 5,
   "metadata": {},
   "outputs": [],
   "source": [
    "# replace xmin, xmax, tmin and tmax with appropriate domains\n",
    "xmin = -10\n",
    "xmax = 10\n",
    "tmin = 0\n",
    "tmax = 5\n",
    "X = np.linspace(xmin, xmax, 100)\n",
    "T = np.linspace(tmin, tmax, 400)"
   ]
  },
  {
   "cell_type": "code",
   "execution_count": null,
   "metadata": {},
   "outputs": [],
   "source": [
    "fig, ax = plt.subplots(dpi = 100)\n",
    "ax.set_xlim(min(X), max(X))\n",
    "ax.set_ylim(min(f(X)), max(f(X)))\n",
    "ax.set_xlabel('$x$')\n",
    "ax.set_ylabel('$u(x,t)$')\n",
    "line, = ax.plot([], [], lw=3, color='b')\n",
    "\n",
    "def init():\n",
    "    line.set_data([], [])\n",
    "    return line,\n",
    "\n",
    "def animate(i):\n",
    "    line.set_data(X, u(X, T[i]))\n",
    "    return line,\n",
    "\n",
    "anim = animation.FuncAnimation(fig, animate, init_func=init,\n",
    "                               frames=len(T), interval=20, blit=True)\n",
    "\n",
    "plt.close(anim._fig)\n",
    "\n",
    "HTML(anim.to_html5_video())\n",
    "\n",
    "anim.save('videos/w06_solution.mp4')"
   ]
  },
  {
   "cell_type": "code",
   "execution_count": null,
   "metadata": {},
   "outputs": [],
   "source": [
    "%%HTML\n",
    "<div align=\"middle\">\n",
    "<video width=\"80%\" controls>\n",
    "      <source src=\"videos/w06_solution.mp4\" type=\"video/mp4\">\n",
    "</video></div>"
   ]
  },
  {
   "cell_type": "code",
   "execution_count": null,
   "metadata": {},
   "outputs": [],
   "source": []
  }
 ],
 "metadata": {
  "@webio": {
   "lastCommId": null,
   "lastKernelId": null
  },
  "kernelspec": {
   "display_name": "Python 3",
   "language": "python",
   "name": "python3"
  },
  "language_info": {
   "codemirror_mode": {
    "name": "ipython",
    "version": 3
   },
   "file_extension": ".py",
   "mimetype": "text/x-python",
   "name": "python",
   "nbconvert_exporter": "python",
   "pygments_lexer": "ipython3",
   "version": "3.6.9"
  }
 },
 "nbformat": 4,
 "nbformat_minor": 4
}
